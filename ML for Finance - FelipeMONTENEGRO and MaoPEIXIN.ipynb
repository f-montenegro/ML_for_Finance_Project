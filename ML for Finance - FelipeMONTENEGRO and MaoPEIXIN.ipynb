{
 "cells": [
  {
   "cell_type": "markdown",
   "id": "8482f9dc",
   "metadata": {},
   "source": [
    "# Project: Machine Learning for Finance\n",
    "### Felipe MONTENEGRO & Mao PEIXIN"
   ]
  },
  {
   "cell_type": "markdown",
   "id": "80cad362",
   "metadata": {},
   "source": [
    "This Jupyter Notebook makes reference to the paper **\"A machine learning approach to portfolio pricing and risk\n",
    "management for high-dimensional problems\"**. The paper was written by Lucio Fernandez-Arjona and Damir Filipovic.\n",
    "\n",
    "The authors propose an alternative approach to estimate conditional epectations across a time interval using Machine Learning approaches to learn a suitable function from finite samples. \n",
    "\n",
    "The method is called **Replicating Martingale Method**."
   ]
  },
  {
   "cell_type": "code",
   "execution_count": null,
   "id": "fc37c39e",
   "metadata": {},
   "outputs": [],
   "source": [
    "from jyquickhelper import add_notebook_menu\n",
    "add_notebook_menu()"
   ]
  },
  {
   "cell_type": "markdown",
   "id": "dabaa517",
   "metadata": {},
   "source": [
    "## 1. Importing Libraries"
   ]
  },
  {
   "cell_type": "code",
   "execution_count": 1,
   "id": "18288d67",
   "metadata": {},
   "outputs": [],
   "source": [
    "import pandas as pd\n",
    "import numpy as np"
   ]
  },
  {
   "cell_type": "markdown",
   "id": "58a002ab",
   "metadata": {},
   "source": [
    "## 2. Input Data"
   ]
  },
  {
   "cell_type": "markdown",
   "id": "bf8865a7",
   "metadata": {},
   "source": [
    "The authors published the datasets used in the examples of the paper.\n",
    "\n",
    "These datasets can be downloaded through this <a href=\"https://zenodo.org/record/3837381#.YkMSkYVBw2w\">link</a>.\n",
    "\n",
    "In the paper, there are 2 examples. Each one of them uses a different category of data:\n",
    "\n",
    "    - European Call (Finance)\n",
    "    - Variable Annuity Guarantee (Insurance)\n",
    "    "
   ]
  },
  {
   "cell_type": "markdown",
   "id": "53b7e55e",
   "metadata": {},
   "source": [
    "The function `calc_stats` can be used to derive the **present value (pv)**, **expected shortfal (es)** and **value-at-risk (var)** of empirical distributions."
   ]
  },
  {
   "cell_type": "code",
   "execution_count": null,
   "id": "7569102f",
   "metadata": {},
   "outputs": [],
   "source": [
    "# function to calculate the Expected Shortfall\n",
    "# this function is called in the main function (calc_stats)\n",
    "def es_cal(vec: np.ndarray, *, nalpha: int=None, alpha: float=None)->np.ndarray:\n",
    "    assert (nalpha is None) != (alpha is None)\n",
    "    if nalpha is None:\n",
    "        nalpha = int(len(vec) * alpha)\n",
    "    ord_vec = np.sort(vec, axis=0)\n",
    "    d_es = ord_vec[:nalpha].mean()\n",
    "    u_es = ord_vec[-nalpha:].mean() \n",
    "    return np.array([u_es, d_es])\n",
    "\n",
    "\n",
    "def calc_stats(data):\n",
    "    assert data.columns.to_list() == ['id', 'Z']\n",
    "    mean = data['Z'].mean()\n",
    "    es = es_cal(data['Z'].values-mean, alpha=0.01)\n",
    "    var = np.percentile(data['Z'].values-mean, q=[99., 1.])\n",
    "    return pd.Series(np.array([ es[0], es[1], var[0], var[1], mean]), \n",
    "                     index=['upper_es', 'lower_es', 'upper_var', 'lower_var', 'pv'])"
   ]
  },
  {
   "cell_type": "code",
   "execution_count": null,
   "id": "e07cc65d",
   "metadata": {},
   "outputs": [],
   "source": []
  }
 ],
 "metadata": {
  "kernelspec": {
   "display_name": "Python 3",
   "language": "python",
   "name": "python3"
  },
  "language_info": {
   "codemirror_mode": {
    "name": "ipython",
    "version": 3
   },
   "file_extension": ".py",
   "mimetype": "text/x-python",
   "name": "python",
   "nbconvert_exporter": "python",
   "pygments_lexer": "ipython3",
   "version": "3.8.8"
  }
 },
 "nbformat": 4,
 "nbformat_minor": 5
}
